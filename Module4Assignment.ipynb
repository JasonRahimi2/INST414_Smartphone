{
 "cells": [
  {
   "cell_type": "code",
   "execution_count": 5,
   "id": "8f1a05f9",
   "metadata": {},
   "outputs": [],
   "source": [
    "#Importing libraries\n",
    "import pandas as pd\n",
    "import numpy as np\n",
    "from sklearn.cluster import KMeans\n",
    "from matplotlib import pyplot as plt"
   ]
  },
  {
   "cell_type": "code",
   "execution_count": 6,
   "id": "582373e5",
   "metadata": {
    "scrolled": false
   },
   "outputs": [
    {
     "data": {
      "text/html": [
       "<div>\n",
       "<style scoped>\n",
       "    .dataframe tbody tr th:only-of-type {\n",
       "        vertical-align: middle;\n",
       "    }\n",
       "\n",
       "    .dataframe tbody tr th {\n",
       "        vertical-align: top;\n",
       "    }\n",
       "\n",
       "    .dataframe thead th {\n",
       "        text-align: right;\n",
       "    }\n",
       "</style>\n",
       "<table border=\"1\" class=\"dataframe\">\n",
       "  <thead>\n",
       "    <tr style=\"text-align: right;\">\n",
       "      <th></th>\n",
       "      <th>brand_name</th>\n",
       "      <th>model</th>\n",
       "      <th>price</th>\n",
       "      <th>rating</th>\n",
       "      <th>has_5g</th>\n",
       "      <th>has_nfc</th>\n",
       "      <th>has_ir_blaster</th>\n",
       "      <th>processor_brand</th>\n",
       "      <th>num_cores</th>\n",
       "      <th>processor_speed</th>\n",
       "      <th>...</th>\n",
       "      <th>screen_size</th>\n",
       "      <th>refresh_rate</th>\n",
       "      <th>resolution</th>\n",
       "      <th>num_rear_cameras</th>\n",
       "      <th>num_front_cameras</th>\n",
       "      <th>os</th>\n",
       "      <th>primary_camera_rear</th>\n",
       "      <th>primary_camera_front</th>\n",
       "      <th>extended_memory_available</th>\n",
       "      <th>extended_upto</th>\n",
       "    </tr>\n",
       "  </thead>\n",
       "  <tbody>\n",
       "    <tr>\n",
       "      <th>0</th>\n",
       "      <td>oneplus</td>\n",
       "      <td>OnePlus 11 5G</td>\n",
       "      <td>54999</td>\n",
       "      <td>89.0</td>\n",
       "      <td>True</td>\n",
       "      <td>True</td>\n",
       "      <td>False</td>\n",
       "      <td>snapdragon</td>\n",
       "      <td>8.0</td>\n",
       "      <td>3.2</td>\n",
       "      <td>...</td>\n",
       "      <td>6.70</td>\n",
       "      <td>120</td>\n",
       "      <td>1440 x 3216</td>\n",
       "      <td>3</td>\n",
       "      <td>1.0</td>\n",
       "      <td>android</td>\n",
       "      <td>50.0</td>\n",
       "      <td>16.0</td>\n",
       "      <td>0</td>\n",
       "      <td>NaN</td>\n",
       "    </tr>\n",
       "    <tr>\n",
       "      <th>1</th>\n",
       "      <td>oneplus</td>\n",
       "      <td>OnePlus Nord CE 2 Lite 5G</td>\n",
       "      <td>19989</td>\n",
       "      <td>81.0</td>\n",
       "      <td>True</td>\n",
       "      <td>False</td>\n",
       "      <td>False</td>\n",
       "      <td>snapdragon</td>\n",
       "      <td>8.0</td>\n",
       "      <td>2.2</td>\n",
       "      <td>...</td>\n",
       "      <td>6.59</td>\n",
       "      <td>120</td>\n",
       "      <td>1080 x 2412</td>\n",
       "      <td>3</td>\n",
       "      <td>1.0</td>\n",
       "      <td>android</td>\n",
       "      <td>64.0</td>\n",
       "      <td>16.0</td>\n",
       "      <td>1</td>\n",
       "      <td>1024.0</td>\n",
       "    </tr>\n",
       "    <tr>\n",
       "      <th>2</th>\n",
       "      <td>samsung</td>\n",
       "      <td>Samsung Galaxy A14 5G</td>\n",
       "      <td>16499</td>\n",
       "      <td>75.0</td>\n",
       "      <td>True</td>\n",
       "      <td>False</td>\n",
       "      <td>False</td>\n",
       "      <td>exynos</td>\n",
       "      <td>8.0</td>\n",
       "      <td>2.4</td>\n",
       "      <td>...</td>\n",
       "      <td>6.60</td>\n",
       "      <td>90</td>\n",
       "      <td>1080 x 2408</td>\n",
       "      <td>3</td>\n",
       "      <td>1.0</td>\n",
       "      <td>android</td>\n",
       "      <td>50.0</td>\n",
       "      <td>13.0</td>\n",
       "      <td>1</td>\n",
       "      <td>1024.0</td>\n",
       "    </tr>\n",
       "    <tr>\n",
       "      <th>3</th>\n",
       "      <td>motorola</td>\n",
       "      <td>Motorola Moto G62 5G</td>\n",
       "      <td>14999</td>\n",
       "      <td>81.0</td>\n",
       "      <td>True</td>\n",
       "      <td>False</td>\n",
       "      <td>False</td>\n",
       "      <td>snapdragon</td>\n",
       "      <td>8.0</td>\n",
       "      <td>2.2</td>\n",
       "      <td>...</td>\n",
       "      <td>6.55</td>\n",
       "      <td>120</td>\n",
       "      <td>1080 x 2400</td>\n",
       "      <td>3</td>\n",
       "      <td>1.0</td>\n",
       "      <td>android</td>\n",
       "      <td>50.0</td>\n",
       "      <td>16.0</td>\n",
       "      <td>1</td>\n",
       "      <td>1024.0</td>\n",
       "    </tr>\n",
       "    <tr>\n",
       "      <th>4</th>\n",
       "      <td>realme</td>\n",
       "      <td>Realme 10 Pro Plus</td>\n",
       "      <td>24999</td>\n",
       "      <td>82.0</td>\n",
       "      <td>True</td>\n",
       "      <td>False</td>\n",
       "      <td>False</td>\n",
       "      <td>dimensity</td>\n",
       "      <td>8.0</td>\n",
       "      <td>2.6</td>\n",
       "      <td>...</td>\n",
       "      <td>6.70</td>\n",
       "      <td>120</td>\n",
       "      <td>1080 x 2412</td>\n",
       "      <td>3</td>\n",
       "      <td>1.0</td>\n",
       "      <td>android</td>\n",
       "      <td>108.0</td>\n",
       "      <td>16.0</td>\n",
       "      <td>0</td>\n",
       "      <td>NaN</td>\n",
       "    </tr>\n",
       "  </tbody>\n",
       "</table>\n",
       "<p>5 rows × 25 columns</p>\n",
       "</div>"
      ],
      "text/plain": [
       "  brand_name                      model  price  rating  has_5g  has_nfc  \\\n",
       "0    oneplus              OnePlus 11 5G  54999    89.0    True     True   \n",
       "1    oneplus  OnePlus Nord CE 2 Lite 5G  19989    81.0    True    False   \n",
       "2    samsung      Samsung Galaxy A14 5G  16499    75.0    True    False   \n",
       "3   motorola       Motorola Moto G62 5G  14999    81.0    True    False   \n",
       "4     realme         Realme 10 Pro Plus  24999    82.0    True    False   \n",
       "\n",
       "   has_ir_blaster processor_brand  num_cores  processor_speed  ...  \\\n",
       "0           False      snapdragon        8.0              3.2  ...   \n",
       "1           False      snapdragon        8.0              2.2  ...   \n",
       "2           False          exynos        8.0              2.4  ...   \n",
       "3           False      snapdragon        8.0              2.2  ...   \n",
       "4           False       dimensity        8.0              2.6  ...   \n",
       "\n",
       "   screen_size  refresh_rate    resolution  num_rear_cameras  \\\n",
       "0         6.70           120  1440 x 3216                  3   \n",
       "1         6.59           120  1080 x 2412                  3   \n",
       "2         6.60            90  1080 x 2408                  3   \n",
       "3         6.55           120  1080 x 2400                  3   \n",
       "4         6.70           120  1080 x 2412                  3   \n",
       "\n",
       "   num_front_cameras       os  primary_camera_rear primary_camera_front  \\\n",
       "0                1.0  android                 50.0                 16.0   \n",
       "1                1.0  android                 64.0                 16.0   \n",
       "2                1.0  android                 50.0                 13.0   \n",
       "3                1.0  android                 50.0                 16.0   \n",
       "4                1.0  android                108.0                 16.0   \n",
       "\n",
       "   extended_memory_available  extended_upto  \n",
       "0                          0            NaN  \n",
       "1                          1         1024.0  \n",
       "2                          1         1024.0  \n",
       "3                          1         1024.0  \n",
       "4                          0            NaN  \n",
       "\n",
       "[5 rows x 25 columns]"
      ]
     },
     "execution_count": 6,
     "metadata": {},
     "output_type": "execute_result"
    }
   ],
   "source": [
    "#Reading CSV file\n",
    "smartphone_df = pd.read_csv('smartphones.csv')\n",
    "smartphone_df.head()"
   ]
  },
  {
   "cell_type": "code",
   "execution_count": 23,
   "id": "96d5b3ea",
   "metadata": {
    "scrolled": true
   },
   "outputs": [
    {
     "data": {
      "text/plain": [
       "Index(['brand_name', 'model', 'price', 'rating', 'has_5g', 'has_nfc',\n",
       "       'has_ir_blaster', 'processor_brand', 'num_cores', 'processor_speed',\n",
       "       'battery_capacity', 'fast_charging_available', 'fast_charging',\n",
       "       'ram_capacity', 'internal_memory', 'screen_size', 'refresh_rate',\n",
       "       'resolution', 'num_rear_cameras', 'num_front_cameras', 'os',\n",
       "       'primary_camera_rear', 'primary_camera_front',\n",
       "       'extended_memory_available', 'extended_upto'],\n",
       "      dtype='object')"
      ]
     },
     "execution_count": 23,
     "metadata": {},
     "output_type": "execute_result"
    }
   ],
   "source": [
    "#Finding all column names\n",
    "smartphone_df.columns.unique()"
   ]
  },
  {
   "cell_type": "code",
   "execution_count": 4,
   "id": "5f8b0340",
   "metadata": {
    "scrolled": true
   },
   "outputs": [
    {
     "data": {
      "text/html": [
       "<div>\n",
       "<style scoped>\n",
       "    .dataframe tbody tr th:only-of-type {\n",
       "        vertical-align: middle;\n",
       "    }\n",
       "\n",
       "    .dataframe tbody tr th {\n",
       "        vertical-align: top;\n",
       "    }\n",
       "\n",
       "    .dataframe thead th {\n",
       "        text-align: right;\n",
       "    }\n",
       "</style>\n",
       "<table border=\"1\" class=\"dataframe\">\n",
       "  <thead>\n",
       "    <tr style=\"text-align: right;\">\n",
       "      <th></th>\n",
       "      <th>price</th>\n",
       "      <th>has_5g</th>\n",
       "      <th>has_nfc</th>\n",
       "      <th>num_cores</th>\n",
       "      <th>processor_speed</th>\n",
       "      <th>battery_capacity</th>\n",
       "      <th>ram_capacity</th>\n",
       "      <th>internal_memory</th>\n",
       "      <th>screen_size</th>\n",
       "      <th>refresh_rate</th>\n",
       "      <th>num_rear_cameras</th>\n",
       "    </tr>\n",
       "  </thead>\n",
       "  <tbody>\n",
       "    <tr>\n",
       "      <th>0</th>\n",
       "      <td>54999</td>\n",
       "      <td>True</td>\n",
       "      <td>True</td>\n",
       "      <td>8.0</td>\n",
       "      <td>3.2</td>\n",
       "      <td>5000.0</td>\n",
       "      <td>12.0</td>\n",
       "      <td>256.0</td>\n",
       "      <td>6.70</td>\n",
       "      <td>120</td>\n",
       "      <td>3</td>\n",
       "    </tr>\n",
       "    <tr>\n",
       "      <th>1</th>\n",
       "      <td>19989</td>\n",
       "      <td>True</td>\n",
       "      <td>False</td>\n",
       "      <td>8.0</td>\n",
       "      <td>2.2</td>\n",
       "      <td>5000.0</td>\n",
       "      <td>6.0</td>\n",
       "      <td>128.0</td>\n",
       "      <td>6.59</td>\n",
       "      <td>120</td>\n",
       "      <td>3</td>\n",
       "    </tr>\n",
       "    <tr>\n",
       "      <th>2</th>\n",
       "      <td>16499</td>\n",
       "      <td>True</td>\n",
       "      <td>False</td>\n",
       "      <td>8.0</td>\n",
       "      <td>2.4</td>\n",
       "      <td>5000.0</td>\n",
       "      <td>4.0</td>\n",
       "      <td>64.0</td>\n",
       "      <td>6.60</td>\n",
       "      <td>90</td>\n",
       "      <td>3</td>\n",
       "    </tr>\n",
       "    <tr>\n",
       "      <th>3</th>\n",
       "      <td>14999</td>\n",
       "      <td>True</td>\n",
       "      <td>False</td>\n",
       "      <td>8.0</td>\n",
       "      <td>2.2</td>\n",
       "      <td>5000.0</td>\n",
       "      <td>6.0</td>\n",
       "      <td>128.0</td>\n",
       "      <td>6.55</td>\n",
       "      <td>120</td>\n",
       "      <td>3</td>\n",
       "    </tr>\n",
       "    <tr>\n",
       "      <th>4</th>\n",
       "      <td>24999</td>\n",
       "      <td>True</td>\n",
       "      <td>False</td>\n",
       "      <td>8.0</td>\n",
       "      <td>2.6</td>\n",
       "      <td>5000.0</td>\n",
       "      <td>6.0</td>\n",
       "      <td>128.0</td>\n",
       "      <td>6.70</td>\n",
       "      <td>120</td>\n",
       "      <td>3</td>\n",
       "    </tr>\n",
       "  </tbody>\n",
       "</table>\n",
       "</div>"
      ],
      "text/plain": [
       "   price  has_5g  has_nfc  num_cores  processor_speed  battery_capacity  \\\n",
       "0  54999    True     True        8.0              3.2            5000.0   \n",
       "1  19989    True    False        8.0              2.2            5000.0   \n",
       "2  16499    True    False        8.0              2.4            5000.0   \n",
       "3  14999    True    False        8.0              2.2            5000.0   \n",
       "4  24999    True    False        8.0              2.6            5000.0   \n",
       "\n",
       "   ram_capacity  internal_memory  screen_size  refresh_rate  num_rear_cameras  \n",
       "0          12.0            256.0         6.70           120                 3  \n",
       "1           6.0            128.0         6.59           120                 3  \n",
       "2           4.0             64.0         6.60            90                 3  \n",
       "3           6.0            128.0         6.55           120                 3  \n",
       "4           6.0            128.0         6.70           120                 3  "
      ]
     },
     "execution_count": 4,
     "metadata": {},
     "output_type": "execute_result"
    }
   ],
   "source": [
    "#Developing a new Dataframe\n",
    "new_smartphone_df = smartphone_df[['price', 'has_5g', 'has_nfc', 'num_cores', 'processor_speed',\n",
    "                                   'battery_capacity', 'ram_capacity', 'internal_memory', 'screen_size',\n",
    "                                   'refresh_rate', 'num_rear_cameras']].dropna()\n",
    "new_smartphone_df.head()"
   ]
  },
  {
   "cell_type": "code",
   "execution_count": 5,
   "id": "167e3fcb",
   "metadata": {},
   "outputs": [
    {
     "name": "stdout",
     "output_type": "stream",
     "text": [
      "<class 'pandas.core.frame.DataFrame'>\n",
      "Index: 928 entries, 0 to 978\n",
      "Data columns (total 11 columns):\n",
      " #   Column            Non-Null Count  Dtype  \n",
      "---  ------            --------------  -----  \n",
      " 0   price             928 non-null    float64\n",
      " 1   has_5g            928 non-null    float64\n",
      " 2   has_nfc           928 non-null    float64\n",
      " 3   num_cores         928 non-null    float64\n",
      " 4   processor_speed   928 non-null    float64\n",
      " 5   battery_capacity  928 non-null    float64\n",
      " 6   ram_capacity      928 non-null    float64\n",
      " 7   internal_memory   928 non-null    float64\n",
      " 8   screen_size       928 non-null    float64\n",
      " 9   refresh_rate      928 non-null    float64\n",
      " 10  num_rear_cameras  928 non-null    float64\n",
      "dtypes: float64(11)\n",
      "memory usage: 87.0 KB\n"
     ]
    }
   ],
   "source": [
    "#Changing data types\n",
    "dict_type = {'price':float, 'has_5g':float, 'has_nfc':float, 'refresh_rate':float, 'num_rear_cameras':float}\n",
    "new_smartphone_df = new_smartphone_df.astype(dict_type)\n",
    "new_smartphone_df.info()"
   ]
  },
  {
   "cell_type": "code",
   "execution_count": 6,
   "id": "90698f8a",
   "metadata": {},
   "outputs": [
    {
     "data": {
      "text/html": [
       "<div>\n",
       "<style scoped>\n",
       "    .dataframe tbody tr th:only-of-type {\n",
       "        vertical-align: middle;\n",
       "    }\n",
       "\n",
       "    .dataframe tbody tr th {\n",
       "        vertical-align: top;\n",
       "    }\n",
       "\n",
       "    .dataframe thead th {\n",
       "        text-align: right;\n",
       "    }\n",
       "</style>\n",
       "<table border=\"1\" class=\"dataframe\">\n",
       "  <thead>\n",
       "    <tr style=\"text-align: right;\">\n",
       "      <th></th>\n",
       "      <th>price</th>\n",
       "      <th>has_5g</th>\n",
       "      <th>has_nfc</th>\n",
       "      <th>num_cores</th>\n",
       "      <th>processor_speed</th>\n",
       "      <th>battery_capacity</th>\n",
       "      <th>ram_capacity</th>\n",
       "      <th>internal_memory</th>\n",
       "      <th>screen_size</th>\n",
       "      <th>refresh_rate</th>\n",
       "      <th>num_rear_cameras</th>\n",
       "    </tr>\n",
       "  </thead>\n",
       "  <tbody>\n",
       "    <tr>\n",
       "      <th>0</th>\n",
       "      <td>0.079660</td>\n",
       "      <td>1.0</td>\n",
       "      <td>1.0</td>\n",
       "      <td>1.0</td>\n",
       "      <td>0.990099</td>\n",
       "      <td>0.157540</td>\n",
       "      <td>0.647059</td>\n",
       "      <td>0.244094</td>\n",
       "      <td>0.703786</td>\n",
       "      <td>0.333333</td>\n",
       "      <td>0.666667</td>\n",
       "    </tr>\n",
       "    <tr>\n",
       "      <th>1</th>\n",
       "      <td>0.025507</td>\n",
       "      <td>1.0</td>\n",
       "      <td>0.0</td>\n",
       "      <td>1.0</td>\n",
       "      <td>0.495050</td>\n",
       "      <td>0.157540</td>\n",
       "      <td>0.294118</td>\n",
       "      <td>0.118110</td>\n",
       "      <td>0.679287</td>\n",
       "      <td>0.333333</td>\n",
       "      <td>0.666667</td>\n",
       "    </tr>\n",
       "    <tr>\n",
       "      <th>2</th>\n",
       "      <td>0.020108</td>\n",
       "      <td>1.0</td>\n",
       "      <td>0.0</td>\n",
       "      <td>1.0</td>\n",
       "      <td>0.594059</td>\n",
       "      <td>0.157540</td>\n",
       "      <td>0.176471</td>\n",
       "      <td>0.055118</td>\n",
       "      <td>0.681514</td>\n",
       "      <td>0.166667</td>\n",
       "      <td>0.666667</td>\n",
       "    </tr>\n",
       "    <tr>\n",
       "      <th>3</th>\n",
       "      <td>0.017788</td>\n",
       "      <td>1.0</td>\n",
       "      <td>0.0</td>\n",
       "      <td>1.0</td>\n",
       "      <td>0.495050</td>\n",
       "      <td>0.157540</td>\n",
       "      <td>0.294118</td>\n",
       "      <td>0.118110</td>\n",
       "      <td>0.670379</td>\n",
       "      <td>0.333333</td>\n",
       "      <td>0.666667</td>\n",
       "    </tr>\n",
       "    <tr>\n",
       "      <th>4</th>\n",
       "      <td>0.033256</td>\n",
       "      <td>1.0</td>\n",
       "      <td>0.0</td>\n",
       "      <td>1.0</td>\n",
       "      <td>0.693069</td>\n",
       "      <td>0.157540</td>\n",
       "      <td>0.294118</td>\n",
       "      <td>0.118110</td>\n",
       "      <td>0.703786</td>\n",
       "      <td>0.333333</td>\n",
       "      <td>0.666667</td>\n",
       "    </tr>\n",
       "    <tr>\n",
       "      <th>...</th>\n",
       "      <td>...</td>\n",
       "      <td>...</td>\n",
       "      <td>...</td>\n",
       "      <td>...</td>\n",
       "      <td>...</td>\n",
       "      <td>...</td>\n",
       "      <td>...</td>\n",
       "      <td>...</td>\n",
       "      <td>...</td>\n",
       "      <td>...</td>\n",
       "      <td>...</td>\n",
       "    </tr>\n",
       "    <tr>\n",
       "      <th>974</th>\n",
       "      <td>0.180187</td>\n",
       "      <td>1.0</td>\n",
       "      <td>1.0</td>\n",
       "      <td>1.0</td>\n",
       "      <td>0.990099</td>\n",
       "      <td>0.147629</td>\n",
       "      <td>0.647059</td>\n",
       "      <td>0.244094</td>\n",
       "      <td>1.000000</td>\n",
       "      <td>0.333333</td>\n",
       "      <td>0.666667</td>\n",
       "    </tr>\n",
       "    <tr>\n",
       "      <th>975</th>\n",
       "      <td>0.048710</td>\n",
       "      <td>1.0</td>\n",
       "      <td>0.0</td>\n",
       "      <td>1.0</td>\n",
       "      <td>0.891089</td>\n",
       "      <td>0.157540</td>\n",
       "      <td>0.411765</td>\n",
       "      <td>0.118110</td>\n",
       "      <td>0.697105</td>\n",
       "      <td>0.333333</td>\n",
       "      <td>0.666667</td>\n",
       "    </tr>\n",
       "    <tr>\n",
       "      <th>976</th>\n",
       "      <td>0.017774</td>\n",
       "      <td>1.0</td>\n",
       "      <td>0.0</td>\n",
       "      <td>1.0</td>\n",
       "      <td>0.495050</td>\n",
       "      <td>0.157540</td>\n",
       "      <td>0.294118</td>\n",
       "      <td>0.118110</td>\n",
       "      <td>0.659243</td>\n",
       "      <td>0.000000</td>\n",
       "      <td>0.666667</td>\n",
       "    </tr>\n",
       "    <tr>\n",
       "      <th>977</th>\n",
       "      <td>0.039429</td>\n",
       "      <td>1.0</td>\n",
       "      <td>1.0</td>\n",
       "      <td>1.0</td>\n",
       "      <td>0.816832</td>\n",
       "      <td>0.161505</td>\n",
       "      <td>0.411765</td>\n",
       "      <td>0.244094</td>\n",
       "      <td>0.681514</td>\n",
       "      <td>0.466667</td>\n",
       "      <td>0.666667</td>\n",
       "    </tr>\n",
       "    <tr>\n",
       "      <th>978</th>\n",
       "      <td>0.025508</td>\n",
       "      <td>1.0</td>\n",
       "      <td>1.0</td>\n",
       "      <td>1.0</td>\n",
       "      <td>0.495050</td>\n",
       "      <td>0.157540</td>\n",
       "      <td>0.294118</td>\n",
       "      <td>0.118110</td>\n",
       "      <td>0.726058</td>\n",
       "      <td>0.000000</td>\n",
       "      <td>0.666667</td>\n",
       "    </tr>\n",
       "  </tbody>\n",
       "</table>\n",
       "<p>928 rows × 11 columns</p>\n",
       "</div>"
      ],
      "text/plain": [
       "        price  has_5g  has_nfc  num_cores  processor_speed  battery_capacity  \\\n",
       "0    0.079660     1.0      1.0        1.0         0.990099          0.157540   \n",
       "1    0.025507     1.0      0.0        1.0         0.495050          0.157540   \n",
       "2    0.020108     1.0      0.0        1.0         0.594059          0.157540   \n",
       "3    0.017788     1.0      0.0        1.0         0.495050          0.157540   \n",
       "4    0.033256     1.0      0.0        1.0         0.693069          0.157540   \n",
       "..        ...     ...      ...        ...              ...               ...   \n",
       "974  0.180187     1.0      1.0        1.0         0.990099          0.147629   \n",
       "975  0.048710     1.0      0.0        1.0         0.891089          0.157540   \n",
       "976  0.017774     1.0      0.0        1.0         0.495050          0.157540   \n",
       "977  0.039429     1.0      1.0        1.0         0.816832          0.161505   \n",
       "978  0.025508     1.0      1.0        1.0         0.495050          0.157540   \n",
       "\n",
       "     ram_capacity  internal_memory  screen_size  refresh_rate  \\\n",
       "0        0.647059         0.244094     0.703786      0.333333   \n",
       "1        0.294118         0.118110     0.679287      0.333333   \n",
       "2        0.176471         0.055118     0.681514      0.166667   \n",
       "3        0.294118         0.118110     0.670379      0.333333   \n",
       "4        0.294118         0.118110     0.703786      0.333333   \n",
       "..            ...              ...          ...           ...   \n",
       "974      0.647059         0.244094     1.000000      0.333333   \n",
       "975      0.411765         0.118110     0.697105      0.333333   \n",
       "976      0.294118         0.118110     0.659243      0.000000   \n",
       "977      0.411765         0.244094     0.681514      0.466667   \n",
       "978      0.294118         0.118110     0.726058      0.000000   \n",
       "\n",
       "     num_rear_cameras  \n",
       "0            0.666667  \n",
       "1            0.666667  \n",
       "2            0.666667  \n",
       "3            0.666667  \n",
       "4            0.666667  \n",
       "..                ...  \n",
       "974          0.666667  \n",
       "975          0.666667  \n",
       "976          0.666667  \n",
       "977          0.666667  \n",
       "978          0.666667  \n",
       "\n",
       "[928 rows x 11 columns]"
      ]
     },
     "execution_count": 6,
     "metadata": {},
     "output_type": "execute_result"
    }
   ],
   "source": [
    "#Normalizing values using min-max normalization\n",
    "df_range = (new_smartphone_df.max(axis=0) - new_smartphone_df.min(axis=0))\n",
    "df_min_max = (new_smartphone_df - new_smartphone_df.min(axis=0))/ df_range\n",
    "df_min_max"
   ]
  },
  {
   "cell_type": "code",
   "execution_count": 7,
   "id": "8a92dcb2",
   "metadata": {
    "scrolled": true
   },
   "outputs": [],
   "source": [
    "#Creating clusters using k-means clustering\n",
    "scores = []\n",
    "for k_cluster in range(2, 14):\n",
    "    model = KMeans(n_clusters=k_cluster, n_init=10)\n",
    "    model.fit(df_min_max)\n",
    "    score = model.inertia_\n",
    "    scores.append((k_cluster, score))"
   ]
  },
  {
   "cell_type": "code",
   "execution_count": 8,
   "id": "3a546e31",
   "metadata": {
    "scrolled": false
   },
   "outputs": [
    {
     "data": {
      "text/html": [
       "<div>\n",
       "<style scoped>\n",
       "    .dataframe tbody tr th:only-of-type {\n",
       "        vertical-align: middle;\n",
       "    }\n",
       "\n",
       "    .dataframe tbody tr th {\n",
       "        vertical-align: top;\n",
       "    }\n",
       "\n",
       "    .dataframe thead th {\n",
       "        text-align: right;\n",
       "    }\n",
       "</style>\n",
       "<table border=\"1\" class=\"dataframe\">\n",
       "  <thead>\n",
       "    <tr style=\"text-align: right;\">\n",
       "      <th></th>\n",
       "      <th>cluster</th>\n",
       "      <th>score</th>\n",
       "    </tr>\n",
       "  </thead>\n",
       "  <tbody>\n",
       "    <tr>\n",
       "      <th>0</th>\n",
       "      <td>2</td>\n",
       "      <td>345.568756</td>\n",
       "    </tr>\n",
       "    <tr>\n",
       "      <th>1</th>\n",
       "      <td>3</td>\n",
       "      <td>213.980281</td>\n",
       "    </tr>\n",
       "    <tr>\n",
       "      <th>2</th>\n",
       "      <td>4</td>\n",
       "      <td>166.389092</td>\n",
       "    </tr>\n",
       "    <tr>\n",
       "      <th>3</th>\n",
       "      <td>5</td>\n",
       "      <td>126.197830</td>\n",
       "    </tr>\n",
       "    <tr>\n",
       "      <th>4</th>\n",
       "      <td>6</td>\n",
       "      <td>101.324914</td>\n",
       "    </tr>\n",
       "    <tr>\n",
       "      <th>5</th>\n",
       "      <td>7</td>\n",
       "      <td>90.305803</td>\n",
       "    </tr>\n",
       "    <tr>\n",
       "      <th>6</th>\n",
       "      <td>8</td>\n",
       "      <td>84.476005</td>\n",
       "    </tr>\n",
       "    <tr>\n",
       "      <th>7</th>\n",
       "      <td>9</td>\n",
       "      <td>79.510732</td>\n",
       "    </tr>\n",
       "    <tr>\n",
       "      <th>8</th>\n",
       "      <td>10</td>\n",
       "      <td>74.473873</td>\n",
       "    </tr>\n",
       "    <tr>\n",
       "      <th>9</th>\n",
       "      <td>11</td>\n",
       "      <td>67.891979</td>\n",
       "    </tr>\n",
       "    <tr>\n",
       "      <th>10</th>\n",
       "      <td>12</td>\n",
       "      <td>64.563654</td>\n",
       "    </tr>\n",
       "    <tr>\n",
       "      <th>11</th>\n",
       "      <td>13</td>\n",
       "      <td>60.045753</td>\n",
       "    </tr>\n",
       "  </tbody>\n",
       "</table>\n",
       "</div>"
      ],
      "text/plain": [
       "    cluster       score\n",
       "0         2  345.568756\n",
       "1         3  213.980281\n",
       "2         4  166.389092\n",
       "3         5  126.197830\n",
       "4         6  101.324914\n",
       "5         7   90.305803\n",
       "6         8   84.476005\n",
       "7         9   79.510732\n",
       "8        10   74.473873\n",
       "9        11   67.891979\n",
       "10       12   64.563654\n",
       "11       13   60.045753"
      ]
     },
     "execution_count": 8,
     "metadata": {},
     "output_type": "execute_result"
    }
   ],
   "source": [
    "#Developing a new dataframe\n",
    "scores_df = pd.DataFrame(scores, columns=['cluster', 'score'])\n",
    "scores_df"
   ]
  },
  {
   "cell_type": "code",
   "execution_count": 9,
   "id": "345a6697",
   "metadata": {},
   "outputs": [
    {
     "data": {
      "text/plain": [
       "Text(0, 0.5, 'Score')"
      ]
     },
     "execution_count": 9,
     "metadata": {},
     "output_type": "execute_result"
    },
    {
     "data": {
      "text/plain": [
       "<Figure size 1600x1000 with 0 Axes>"
      ]
     },
     "metadata": {},
     "output_type": "display_data"
    },
    {
     "data": {
      "image/png": "[encoded data removed]",
      "text/plain": [
       "<Figure size 640x480 with 1 Axes>"
      ]
     },
     "metadata": {},
     "output_type": "display_data"
    }
   ],
   "source": [
    "#Finding the optimal number of clusters using elbow method\n",
    "fig = plt.figure(figsize=(16,10))\n",
    "scores_df.plot('cluster', 'score')\n",
    "plt.grid(True)\n",
    "plt.xlabel('Number of Clusters')\n",
    "plt.ylabel('Score')"
   ]
  },
  {
   "cell_type": "code",
   "execution_count": 10,
   "id": "4508a729",
   "metadata": {
    "scrolled": true
   },
   "outputs": [
    {
     "data": {
      "text/plain": [
       "Cluster\n",
       "2    330\n",
       "1    302\n",
       "3    207\n",
       "0     53\n",
       "4     36\n",
       "Name: count, dtype: int64"
      ]
     },
     "execution_count": 10,
     "metadata": {},
     "output_type": "execute_result"
    }
   ],
   "source": [
    "#Developing five clusters using k-means clustering\n",
    "cluster_model = KMeans(n_clusters=5, n_init=10)\n",
    "cluster_model.fit(df_min_max)\n",
    "\n",
    "clusters = cluster_model.predict(df_min_max)\n",
    "smartphone_clusters = pd.DataFrame(clusters, index=df_min_max.index, columns=['Cluster'])\n",
    "\n",
    "smartphone_clusters['Cluster'].value_counts()"
   ]
  },
  {
   "cell_type": "code",
   "execution_count": 11,
   "id": "0e320447",
   "metadata": {},
   "outputs": [
    {
     "data": {
      "text/html": [
       "<div>\n",
       "<style scoped>\n",
       "    .dataframe tbody tr th:only-of-type {\n",
       "        vertical-align: middle;\n",
       "    }\n",
       "\n",
       "    .dataframe tbody tr th {\n",
       "        vertical-align: top;\n",
       "    }\n",
       "\n",
       "    .dataframe thead th {\n",
       "        text-align: right;\n",
       "    }\n",
       "</style>\n",
       "<table border=\"1\" class=\"dataframe\">\n",
       "  <thead>\n",
       "    <tr style=\"text-align: right;\">\n",
       "      <th></th>\n",
       "      <th>Cluster</th>\n",
       "      <th>price</th>\n",
       "      <th>has_5g</th>\n",
       "      <th>has_nfc</th>\n",
       "      <th>num_cores</th>\n",
       "      <th>processor_speed</th>\n",
       "      <th>battery_capacity</th>\n",
       "      <th>ram_capacity</th>\n",
       "      <th>internal_memory</th>\n",
       "      <th>screen_size</th>\n",
       "      <th>refresh_rate</th>\n",
       "      <th>num_rear_cameras</th>\n",
       "    </tr>\n",
       "  </thead>\n",
       "  <tbody>\n",
       "    <tr>\n",
       "      <th>0</th>\n",
       "      <td>1</td>\n",
       "      <td>54999.0</td>\n",
       "      <td>1.0</td>\n",
       "      <td>1.0</td>\n",
       "      <td>8.0</td>\n",
       "      <td>3.2</td>\n",
       "      <td>5000.0</td>\n",
       "      <td>12.0</td>\n",
       "      <td>256.0</td>\n",
       "      <td>6.70</td>\n",
       "      <td>120.0</td>\n",
       "      <td>3.0</td>\n",
       "    </tr>\n",
       "    <tr>\n",
       "      <th>1</th>\n",
       "      <td>3</td>\n",
       "      <td>19989.0</td>\n",
       "      <td>1.0</td>\n",
       "      <td>0.0</td>\n",
       "      <td>8.0</td>\n",
       "      <td>2.2</td>\n",
       "      <td>5000.0</td>\n",
       "      <td>6.0</td>\n",
       "      <td>128.0</td>\n",
       "      <td>6.59</td>\n",
       "      <td>120.0</td>\n",
       "      <td>3.0</td>\n",
       "    </tr>\n",
       "    <tr>\n",
       "      <th>2</th>\n",
       "      <td>3</td>\n",
       "      <td>16499.0</td>\n",
       "      <td>1.0</td>\n",
       "      <td>0.0</td>\n",
       "      <td>8.0</td>\n",
       "      <td>2.4</td>\n",
       "      <td>5000.0</td>\n",
       "      <td>4.0</td>\n",
       "      <td>64.0</td>\n",
       "      <td>6.60</td>\n",
       "      <td>90.0</td>\n",
       "      <td>3.0</td>\n",
       "    </tr>\n",
       "    <tr>\n",
       "      <th>3</th>\n",
       "      <td>3</td>\n",
       "      <td>14999.0</td>\n",
       "      <td>1.0</td>\n",
       "      <td>0.0</td>\n",
       "      <td>8.0</td>\n",
       "      <td>2.2</td>\n",
       "      <td>5000.0</td>\n",
       "      <td>6.0</td>\n",
       "      <td>128.0</td>\n",
       "      <td>6.55</td>\n",
       "      <td>120.0</td>\n",
       "      <td>3.0</td>\n",
       "    </tr>\n",
       "    <tr>\n",
       "      <th>4</th>\n",
       "      <td>3</td>\n",
       "      <td>24999.0</td>\n",
       "      <td>1.0</td>\n",
       "      <td>0.0</td>\n",
       "      <td>8.0</td>\n",
       "      <td>2.6</td>\n",
       "      <td>5000.0</td>\n",
       "      <td>6.0</td>\n",
       "      <td>128.0</td>\n",
       "      <td>6.70</td>\n",
       "      <td>120.0</td>\n",
       "      <td>3.0</td>\n",
       "    </tr>\n",
       "  </tbody>\n",
       "</table>\n",
       "</div>"
      ],
      "text/plain": [
       "   Cluster    price  has_5g  has_nfc  num_cores  processor_speed  \\\n",
       "0        1  54999.0     1.0      1.0        8.0              3.2   \n",
       "1        3  19989.0     1.0      0.0        8.0              2.2   \n",
       "2        3  16499.0     1.0      0.0        8.0              2.4   \n",
       "3        3  14999.0     1.0      0.0        8.0              2.2   \n",
       "4        3  24999.0     1.0      0.0        8.0              2.6   \n",
       "\n",
       "   battery_capacity  ram_capacity  internal_memory  screen_size  refresh_rate  \\\n",
       "0            5000.0          12.0            256.0         6.70         120.0   \n",
       "1            5000.0           6.0            128.0         6.59         120.0   \n",
       "2            5000.0           4.0             64.0         6.60          90.0   \n",
       "3            5000.0           6.0            128.0         6.55         120.0   \n",
       "4            5000.0           6.0            128.0         6.70         120.0   \n",
       "\n",
       "   num_rear_cameras  \n",
       "0               3.0  \n",
       "1               3.0  \n",
       "2               3.0  \n",
       "3               3.0  \n",
       "4               3.0  "
      ]
     },
     "execution_count": 11,
     "metadata": {},
     "output_type": "execute_result"
    }
   ],
   "source": [
    "#Joining smartphone_clusters Dataframe with new_smartphone_df Dataframe\n",
    "merged_with_clusters = smartphone_clusters.join(new_smartphone_df)\n",
    "merged_with_clusters.head()"
   ]
  },
  {
   "cell_type": "code",
   "execution_count": 12,
   "id": "f13a6afd",
   "metadata": {
    "scrolled": false
   },
   "outputs": [
    {
     "data": {
      "text/plain": [
       "Text(0, 0.5, 'Number of Processor Cores')"
      ]
     },
     "execution_count": 12,
     "metadata": {},
     "output_type": "execute_result"
    },
    {
     "data": {
      "image/png": "[encoded data removed]",
      "text/plain": [
       "<Figure size 640x480 with 1 Axes>"
      ]
     },
     "metadata": {},
     "output_type": "display_data"
    }
   ],
   "source": [
    "#Developing a scatterplot for number of processor cores\n",
    "plt.scatter(merged_with_clusters['Cluster'], merged_with_clusters['num_cores'])\n",
    "plt.xticks(np.arange(min(merged_with_clusters['Cluster']), max(merged_with_clusters['Cluster'] + 1)))\n",
    "plt.yticks(np.arange(min(merged_with_clusters['num_cores']), max(merged_with_clusters['num_cores'] + 1)))\n",
    "plt.xlabel('Cluster')\n",
    "plt.ylabel('Number of Processor Cores')"
   ]
  },
  {
   "cell_type": "code",
   "execution_count": 13,
   "id": "860f12f4",
   "metadata": {},
   "outputs": [
    {
     "data": {
      "text/plain": [
       "Text(0, 0.5, 'Processor Speed')"
      ]
     },
     "execution_count": 13,
     "metadata": {},
     "output_type": "execute_result"
    },
    {
     "data": {
      "image/png": "[encoded data removed]",
      "text/plain": [
       "<Figure size 640x480 with 1 Axes>"
      ]
     },
     "metadata": {},
     "output_type": "display_data"
    }
   ],
   "source": [
    "#Developing a scatterplot for processor speed\n",
    "plt.scatter(merged_with_clusters['Cluster'], merged_with_clusters['processor_speed'])\n",
    "plt.xticks(np.arange(min(merged_with_clusters['Cluster']), max(merged_with_clusters['Cluster'] + 1)))\n",
    "plt.xlabel('Cluster')\n",
    "plt.ylabel('Processor Speed')"
   ]
  },
  {
   "cell_type": "code",
   "execution_count": 14,
   "id": "1cdaa33e",
   "metadata": {},
   "outputs": [
    {
     "data": {
      "text/plain": [
       "Text(0, 0.5, 'Refresh Rate')"
      ]
     },
     "execution_count": 14,
     "metadata": {},
     "output_type": "execute_result"
    },
    {
     "data": {
      "image/png": "[encoded data removed]",
      "text/plain": [
       "<Figure size 640x480 with 1 Axes>"
      ]
     },
     "metadata": {},
     "output_type": "display_data"
    }
   ],
   "source": [
    "#Developing a scatter plot for refresh rate\n",
    "plt.scatter(merged_with_clusters['Cluster'], merged_with_clusters['refresh_rate'])\n",
    "plt.xticks(np.arange(min(merged_with_clusters['Cluster']), max(merged_with_clusters['Cluster'] + 1)))\n",
    "plt.xlabel('Cluster')\n",
    "plt.ylabel('Refresh Rate')"
   ]
  },
  {
   "cell_type": "code",
   "execution_count": 15,
   "id": "d2a5af8a",
   "metadata": {
    "scrolled": false
   },
   "outputs": [
    {
     "data": {
      "text/plain": [
       "Text(0, 0.5, 'Has 5g')"
      ]
     },
     "execution_count": 15,
     "metadata": {},
     "output_type": "execute_result"
    },
    {
     "data": {
      "image/png": "[encoded data removed]",
      "text/plain": [
       "<Figure size 640x480 with 1 Axes>"
      ]
     },
     "metadata": {},
     "output_type": "display_data"
    }
   ],
   "source": [
    "#Developing a scatterplot for has 5g\n",
    "plt.scatter(merged_with_clusters['Cluster'], merged_with_clusters['has_5g'])\n",
    "plt.xticks(np.arange(min(merged_with_clusters['Cluster']), max(merged_with_clusters['Cluster'] + 1)))\n",
    "plt.xlabel('Cluster')\n",
    "plt.ylabel('Has 5g')"
   ]
  },
  {
   "cell_type": "code",
   "execution_count": 16,
   "id": "2d0f7d4e",
   "metadata": {},
   "outputs": [
    {
     "data": {
      "text/plain": [
       "Text(0, 0.5, 'Ram Capacity')"
      ]
     },
     "execution_count": 16,
     "metadata": {},
     "output_type": "execute_result"
    },
    {
     "data": {
      "image/png": "[encoded data removed]",
      "text/plain": [
       "<Figure size 640x480 with 1 Axes>"
      ]
     },
     "metadata": {},
     "output_type": "display_data"
    }
   ],
   "source": [
    "#Developing a scatterplot for ram capacity\n",
    "plt.scatter(merged_with_clusters['Cluster'], merged_with_clusters['ram_capacity'])\n",
    "plt.xticks(np.arange(min(merged_with_clusters['Cluster']), max(merged_with_clusters['Cluster'] + 1)))\n",
    "plt.xlabel('Cluster')\n",
    "plt.ylabel('Ram Capacity')"
   ]
  },
  {
   "cell_type": "code",
   "execution_count": 17,
   "id": "a98227fe",
   "metadata": {
    "scrolled": true
   },
   "outputs": [
    {
     "data": {
      "text/plain": [
       "Text(0, 0.5, 'Price')"
      ]
     },
     "execution_count": 17,
     "metadata": {},
     "output_type": "execute_result"
    },
    {
     "data": {
      "image/png": "[encoded data removed]",
      "text/plain": [
       "<Figure size 640x480 with 1 Axes>"
      ]
     },
     "metadata": {},
     "output_type": "display_data"
    }
   ],
   "source": [
    "#Developing a scatterplot for price\n",
    "plt.scatter(merged_with_clusters['Cluster'], merged_with_clusters['price'])\n",
    "plt.xticks(np.arange(min(merged_with_clusters['Cluster']), max(merged_with_clusters['Cluster'] + 1)))\n",
    "plt.xlabel('Cluster')\n",
    "plt.ylabel('Price')"
   ]
  }
 ],
 "metadata": {
  "kernelspec": {
   "display_name": "Python 3 (ipykernel)",
   "language": "python",
   "name": "python3"
  },
  "language_info": {
   "codemirror_mode": {
    "name": "ipython",
    "version": 3
   },
   "file_extension": ".py",
   "mimetype": "text/x-python",
   "name": "python",
   "nbconvert_exporter": "python",
   "pygments_lexer": "ipython3",
   "version": "3.11.5"
  }
 },
 "nbformat": 4,
 "nbformat_minor": 5
}
